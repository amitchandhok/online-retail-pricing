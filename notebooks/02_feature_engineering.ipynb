{
 "cells": [
  {
   "cell_type": "code",
   "execution_count": null,
   "id": "83c1e21f",
   "metadata": {
    "vscode": {
     "languageId": "plaintext"
    }
   },
   "outputs": [],
   "source": [
    "# Feature Engineering\n",
    "from src.data import process_data\n",
    "from src.features import build_features\n",
    "\n",
    "# Load and clean data\n",
    "df, _ = make_dataset.load_raw_data()\n",
    "df = process_data.clean_data(df)\n",
    "\n",
    "# Create features\n",
    "train_df, test_df = build_features.time_based_split(df)\n",
    "train_df, test_df = build_features.create_product_clusters(train_df, test_df)\n",
    "train_df = build_features.engineer_features(train_df)\n",
    "test_df = build_features.engineer_features(test_df)"
   ]
  }
 ],
 "metadata": {
  "language_info": {
   "name": "python"
  }
 },
 "nbformat": 4,
 "nbformat_minor": 5
}
