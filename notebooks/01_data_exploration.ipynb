{
 "cells": [
  {
   "cell_type": "code",
   "execution_count": null,
   "id": "57ee4310",
   "metadata": {},
   "outputs": [],
   "source": [
    "# Exploratory Data Analysis\n",
    "import pandas as pd\n",
    "import matplotlib.pyplot as plt\n",
    "from src.data import make_dataset\n",
    "from src.vizualization import vizualize\n",
    "\n",
    "# Load data\n",
    "df, _ = make_dataset.load_raw_data()\n",
    "\n",
    "# Initial exploration\n",
    "print(df.info())\n",
    "print(df.describe())\n",
    "\n",
    "# Visualizations\n",
    "vizualize.plot_price_quantity(df)\n",
    "vizualize.plot_top_skus(df)\n",
    "vizualize.sku_correlation(df)"
   ]
  },
  {
   "cell_type": "code",
   "execution_count": null,
   "id": "19591e7a",
   "metadata": {},
   "outputs": [],
   "source": []
  }
 ],
 "metadata": {
  "kernelspec": {
   "display_name": "myenv",
   "language": "python",
   "name": "python3"
  },
  "language_info": {
   "codemirror_mode": {
    "name": "ipython",
    "version": 3
   },
   "file_extension": ".py",
   "mimetype": "text/x-python",
   "name": "python",
   "nbconvert_exporter": "python",
   "pygments_lexer": "ipython3",
   "version": "3.11.11"
  }
 },
 "nbformat": 4,
 "nbformat_minor": 5
}
