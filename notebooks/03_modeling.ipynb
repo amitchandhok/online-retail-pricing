{
 "cells": [
  {
   "cell_type": "code",
   "execution_count": null,
   "id": "dfa9170c",
   "metadata": {
    "vscode": {
     "languageId": "plaintext"
    }
   },
   "outputs": [],
   "source": [
    "# %% [markdown]\n",
    "# # Price Elasticity Modeling\n",
    "# \n",
    "# This notebook trains and evaluates price elasticity models for each SKU.\n",
    "\n",
    "# %%\n",
    "import pandas as pd\n",
    "import numpy as np\n",
    "import statsmodels.api as sm\n",
    "import matplotlib.pyplot as plt\n",
    "from src.models import train_model\n",
    "from src.data import make_dataset, process_data\n",
    "from src.features import build_features\n",
    "\n",
    "# %%\n",
    "# Load and prepare data\n",
    "df, _ = make_dataset.load_raw_data()\n",
    "df = process_data.correct_outliers(df)\n",
    "df = process_data.clean_data(df)\n",
    "\n",
    "# %%\n",
    "# Create features and split data\n",
    "train_df, test_df = build_features.time_based_split(df)\n",
    "train_df, test_df = build_features.create_product_clusters(train_df, test_df)\n",
    "\n",
    "# NEW: Add column alignment logic\n",
    "train_df = build_features.engineer_features(train_df)\n",
    "full_feature_columns = train_df.columns\n",
    "test_df = build_features.engineer_features(test_df, full_columns=full_feature_columns)\n",
    "\n",
    "# %%\n",
    "# Train models for all SKUs\n",
    "results_df = train_model.train_sku_models(train_df, test_df)\n",
    "\n",
    "# %%\n",
    "# Display model results\n",
    "print(\"Average Model Performance Across All SKUs:\")\n",
    "print(results_df[['TrainMAE', 'TestMAE', 'TrainR2', 'TestR2']].median())\n",
    "\n",
    "# %%\n",
    "# Visualize elasticity estimates\n",
    "plt.figure(figsize=(10, 6))\n",
    "sns.boxplot(data=results_df, y='Elasticity')\n",
    "plt.title('Distribution of Price Elasticity Estimates')\n",
    "plt.ylabel('Elasticity Coefficient')\n",
    "plt.show()\n",
    "\n",
    "# %%\n",
    "# Highlight significant elasticities\n",
    "significant = results_df[results_df['ElasticityPval'] < 0.05].sort_values('Elasticity')\n",
    "\n",
    "plt.figure(figsize=(12, 6))\n",
    "sns.barplot(data=significant, x='StockCode', y='Elasticity', \n",
    "            hue=np.where(significant['Elasticity'] < 0, 'Elastic', 'Inelastic'))\n",
    "plt.title('Statistically Significant Price Elasticities (p < 0.05)')\n",
    "plt.xticks(rotation=45)\n",
    "plt.axhline(0, color='black', linestyle='--')\n",
    "plt.show()"
   ]
  }
 ],
 "metadata": {
  "language_info": {
   "name": "python"
  }
 },
 "nbformat": 4,
 "nbformat_minor": 5
}
